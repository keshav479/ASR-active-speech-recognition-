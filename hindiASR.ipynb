{
 "cells": [
  {
   "cell_type": "code",
   "execution_count": 2,
   "id": "d3aaa9fa",
   "metadata": {},
   "outputs": [],
   "source": [
    "import whisper\n",
    "\n",
    "model = whisper.load_model(\"base\")"
   ]
  },
  {
   "cell_type": "code",
   "execution_count": 3,
   "id": "513d0a16",
   "metadata": {},
   "outputs": [
    {
     "data": {
      "text/plain": [
       "device(type='cpu')"
      ]
     },
     "execution_count": 3,
     "metadata": {},
     "output_type": "execute_result"
    }
   ],
   "source": [
    "model.device"
   ]
  },
  {
   "cell_type": "code",
   "execution_count": 4,
   "id": "e5d0e2d8",
   "metadata": {},
   "outputs": [
    {
     "data": {
      "text/html": [
       "\n",
       "                <audio  controls=\"controls\" >\n",
       "                    <source src=\"data:audio/mpeg;base64,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\" type=\"audio/mpeg\" />\n",
       "                    Your browser does not support the audio element.\n",
       "                </audio>\n",
       "              "
      ],
      "text/plain": [
       "<IPython.lib.display.Audio object>"
      ]
     },
     "execution_count": 4,
     "metadata": {},
     "output_type": "execute_result"
    }
   ],
   "source": [
    "from IPython.display import Audio\n",
    "Audio(\"audio1123.mp3\")"
   ]
  },
  {
   "cell_type": "code",
   "execution_count": 5,
   "id": "6a1ca26d",
   "metadata": {},
   "outputs": [],
   "source": [
    "audio = whisper.load_audio(\"audio1123.mp3\")\n",
    "audio = whisper.pad_or_trim(audio)"
   ]
  },
  {
   "cell_type": "code",
   "execution_count": 6,
   "id": "8a69b49e",
   "metadata": {},
   "outputs": [
    {
     "name": "stdout",
     "output_type": "stream",
     "text": [
      "Detected language: bn\n",
      "وانی راول کمار بکش کمار کمار آجا کمار آنرست کمار سنی کمار رہی کمار مجس کمار سنیس در جنو کارکتا لسانن چیدن نبق دلپانلجی مواررسے بیار موزوانی ایجرسے\n"
     ]
    }
   ],
   "source": [
    "# make log-Mel spectrogram and move to the same device as the model\n",
    "mel = whisper.log_mel_spectrogram(audio).to(model.device)\n",
    "\n",
    "# detect the spoken language\n",
    "_, probs = model.detect_language(mel)\n",
    "print(f\"Detected language: {max(probs, key=probs.get)}\")\n",
    "\n",
    "# decode the audio\n",
    "options = whisper.DecodingOptions()\n",
    "result = whisper.decode(model, mel, options)\n",
    "\n",
    "# print the recognized text\n",
    "print(result.text)"
   ]
  },
  {
   "cell_type": "code",
   "execution_count": null,
   "id": "73e0e2d0",
   "metadata": {},
   "outputs": [],
   "source": []
  }
 ],
 "metadata": {
  "kernelspec": {
   "display_name": "Python 3 (ipykernel)",
   "language": "python",
   "name": "python3"
  },
  "language_info": {
   "codemirror_mode": {
    "name": "ipython",
    "version": 3
   },
   "file_extension": ".py",
   "mimetype": "text/x-python",
   "name": "python",
   "nbconvert_exporter": "python",
   "pygments_lexer": "ipython3",
   "version": "3.11.3"
  }
 },
 "nbformat": 4,
 "nbformat_minor": 5
}
